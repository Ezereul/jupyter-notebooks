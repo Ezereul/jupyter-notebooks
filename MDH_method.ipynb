{
 "cells": [
  {
   "cell_type": "markdown",
   "id": "7e83cfc7-5960-4c77-a232-ac930fc6b5b6",
   "metadata": {},
   "source": [
    "## АвтоГДИ. Метод MDH\n",
    "Непосредственной задачей, стоящей перед гидродинамическими\n",
    "исследованиями пластов и скважин, является получение данных, характеризующих\n",
    "их гидродинамические свойства.\n",
    "При проведении гидродинамических исследований нефтегазовых пластов необходимо решать две задачи.\n",
    "1. Прямая задача подземной гидродинамики состоит в определении давления в\n",
    "произвольной точке пласта с известными коллекторскими и геометрическими\n",
    "параметрами при работе возмущающей скважины с дебитом, изменяющемся по\n",
    "заданному закону или с заданным на скважине переменным давлением.\n",
    "2. Обратная задача подземной гидродинамики состоит в определении\n",
    "коллекторских и геометрических параметров пласта по кривым изменения дебита и\n",
    "давления, замеренным при исследованиях.\n",
    "<br>\n",
    "<br>\n",
    "\n",
    "Решение этих двух задач осуществляется с помощью формул подземной\n",
    "гидродинамики, связывающих давление, дебит и параметры пласта. Получаемые\n",
    "решения должны иметь вид зависимости изменения давления $\\Delta P$ в произвольной\n",
    "точке пласта от времени $t$, расстояния $r$ от возмущающей скважины до исследуемой\n",
    "точки, дебита скважины $Q(t)$, фильтрационных параметров пласта –\n",
    "гидропроводност $kh/μ$ и пьезопроводности $χ$ , а также геометрических параметров пласта."
   ]
  },
  {
   "cell_type": "code",
   "execution_count": 15,
   "id": "ad615f87-614f-4ef9-81c0-40101cac4376",
   "metadata": {},
   "outputs": [],
   "source": [
    "import math\n",
    "from typing import List, Any\n",
    "from math import log10\n",
    "from excel_reader import hydrodynamic_data\n",
    "from Hydrodynamic_Data import HydrodynamicData\n",
    "import numpy as np\n",
    "from excel_reader import formation_info\n",
    "from Fluid_info import FormationInfo\n",
    "import typing as tp"
   ]
  },
  {
   "cell_type": "markdown",
   "id": "bc4c4a5a-0a9a-4566-b3e3-a5480b3fd662",
   "metadata": {},
   "source": [
    "На вход подаются измерения со скважины (данные КВД), а именно изменения давления и изменение времени после остановки скважины. Необходимо преобразовать данные по времени в формат $Lg(t)$.\n",
    "<br>\n",
    "Функция вычисления десятичного логарифма от значений массива $\\Delta t$."
   ]
  },
  {
   "cell_type": "code",
   "execution_count": 16,
   "id": "e6db9621-fd16-4524-ad96-3b7b02df8c94",
   "metadata": {},
   "outputs": [],
   "source": [
    "def calculate_lg_t(hydrodynamic_data: HydrodynamicData) -> List[float]:\n",
    "    delta_t_values = hydrodynamic_data.delta_t\n",
    "    lg_t_values = [log10(value * 3600) for value in delta_t_values]\n",
    "    return lg_t_values"
   ]
  },
  {
   "cell_type": "markdown",
   "id": "b4213901-1000-41e6-a228-23ff081ec3b2",
   "metadata": {},
   "source": [
    "При обработке кривой восстановления давления методом МДХ (или методом касательной) без учета притока жидкости в скважину, упрощенное решение основного уравнения имеет вид:\n",
    "<div style=\"text-align:center\">\n",
    "$\\large\\Delta P(t) = P_c(t) - P_c(0) = \\frac{Q_0 \\mu}{4\\pi k h} \\ln\\left(2.25 \\frac{χ t}{r_{c. пр.}^2}\\right) = \\frac{2.3 Q_0 \\mu}{4\\pi k h} \\lg\\left(2.25 \\frac{χ t}{r_{c. пр.}^2}\\right)$\n",
    "</div>\n",
    "\n",
    "Предыдущее уравнение запишем в виде:\n",
    "<div style=\"text-align:center\">\n",
    "$\\large\\Delta P(t) = \\frac{2.3 Q_0 \\mu}{4\\pi k h} \\lg\\left(\\frac{2.25χ}{r_{c. пр.}^2}\\right) + \\frac{2.3 Q_0 \\mu}{4\\pi k h} \\lg t$\n",
    "</div>\n",
    "<br>\n",
    "Введем обозначения:\n",
    "<div style=\"text-align:center\">\n",
    "$\\large\\ i = \\frac{2.3 Q_0 \\mu}{4\\pi k h}, \\quad A = \\frac{2.3 Q_0 \\mu}{4\\pi k h} \\lg\\left(\\frac{2.25χ}{r_{c. пр.}^2}\\right)$.\n",
    "</div>\n",
    "Тогда выражение для $\\Delta P(t)$ представляется в виде:\n",
    "<div style=\"text-align:center\">\n",
    "$\\large\\Delta P(t) = A + i \\lg t$\n",
    "</div>\n",
    "<br>\n",
    "<br>\n",
    "На основании данных об изменении давления и времени строится кривая восстановления давления (КВД) в полулогарифмических координатах, где ось абсцисс представляет собой логарифм времени $lg (t)$, а ось ординат - изменение давления $\\Delta P(t)$.\n",
    "</div>\n",
    "На прямолинейном участке кривой восстановления давления произвольно выбираются две точки с координатами $\\Delta P(t_1)$, $lg (t_1)$ и $\\Delta P(t_2)$, $log (t_2)$, которые определяют значение угла наклона этого участка.\n",
    "<br>\n",
    "<br>\n",
    "Угол наклона прямолинейного участка кривой восстановления давления вычисляется как отношение разности изменений давления между выбранными точками к разности логарифма от времени между выбранными точками:\n",
    "<div style=\"text-align:center\">\n",
    "$\\large\\ i = \\text{tg}\\alpha = \\frac{\\Delta P(t_2) - \\Delta P(t_1)}{\\lg t_2 - \\lg t_1}$\n",
    "</div>\n",
    "<br>\n",
    "Коэффициент $A$ находится как:\n",
    "<div style=\"text-align:center\">\n",
    "$A = \\Delta P_1 - i \\cdot \\lg t_1$\n",
    "\n",
    "Определяется гидропроводность пласта в районе исследуемой скважины:\n",
    "<div style=\"text-align:center\">\n",
    "$\\large\\varepsilon = \\frac{k h}{\\mu} = \\frac{2.3 Q_0 b}{4\\pi}$\n",
    "\n",
    "Определяется комплексный параметр:\n",
    "<div style=\"text-align:center\">\n",
    "$\\large\\frac{\\chi}{r_{c.пр.}^2} = \\frac{{10^{\\frac{A}{i}}}}{2.25} $\n",
    "\n",
    "В том случае, если интерпретатор имеет удовлетворяющие его значения эффективной толщины пласта $h$, пористости $m$, коэффициента сжимаемости $ C_{\\text{total}}$, то можно произвести оценку ряда параметров.\n",
    "\n",
    "Оценим коэффициент пьезопроводности:\n",
    "<div style=\"text-align:center\">\n",
    "$\\large\\chi = \\frac{\\varepsilon}{{h \\cdot C_{\\text{total}}}}$\n",
    "\n",
    "Вычисляется коэффициент продуктивности при радиусе контура питания, равном половине расстояния между скважинами:\n",
    "<div style=\"text-align:center\">\n",
    "$\\large\\ K = \\frac{{Q_0}}{{P_{\\text{пл.}} - P_c}} = \\frac{{\\frac{{2\\pi kh}}{{\\mu}}}}{{2.3 \\lg\\left(\\frac{{R_k}}{{r_{c.пр.}}}\\right)}}$\n",
    "\n",
    "\n",
    "Функция вычисления основных параметров по методу MDH."
   ]
  },
  {
   "cell_type": "code",
   "execution_count": 17,
   "id": "eb2980ef-424c-47e9-8c8b-4e8b3b154cc3",
   "metadata": {},
   "outputs": [],
   "source": [
    "def calculate_MDH(formation_info: FormationInfo) -> tp.Tuple[float, float, float, float, tp.Union[float, int]]:\n",
    "    Q_0 = formation_info.Q\n",
    "    b = formation_info.b\n",
    "    density = formation_info.density\n",
    "    h = formation_info.h\n",
    "    mu = formation_info.mu\n",
    "    c_total = formation_info.c_total\n",
    "    distance = formation_info.distance\n",
    "    epsilon = (2.3 * Q_0 * 11.57 * b) / (4 * np.pi * i * density)\n",
    "    param = (10 ** (A / i)) / 2.25\n",
    "    piezo = epsilon / ((h * 100) * c_total)\n",
    "    r_pr = math.sqrt(piezo / param)\n",
    "    K = (2 * np.pi * epsilon) / (2.3 * log10(((distance * 100) / 2) / r_pr))\n",
    "    K_prod = (K * density) / (11.57 * b)\n",
    "    k = (epsilon * mu) / (h * 100) * 10 ** 3\n",
    "    return round(epsilon, 3), round(param, 3), round(piezo, 3), round(K_prod, 3), round(k, 3)\n"
   ]
  },
  {
   "cell_type": "markdown",
   "id": "479e7196-96a5-4f0c-8cc7-26ba8e02347e",
   "metadata": {},
   "source": [
    "Вызов функций и вывод полученных результатов"
   ]
  },
  {
   "cell_type": "code",
   "execution_count": 18,
   "id": "a3f7deb0-fcf7-4718-bb2c-c9d05f1085e6",
   "metadata": {},
   "outputs": [
    {
     "name": "stdout",
     "output_type": "stream",
     "text": [
      "Гидропроводность пласта: 3.439, (Д*см)/cП\n",
      "Комплексный параметр: 0.231, 1/c\n",
      "Пьезопроводность пласта: 29.543 cм^2/c\n",
      "Коэффициент продуктивности: 0.24, т/(сут*атм)\n",
      "Проницаемость: 8.579, мД\n"
     ]
    }
   ],
   "source": [
    "lg_t_result = calculate_lg_t(hydrodynamic_data)\n",
    "delta_p = hydrodynamic_data.delta_p\n",
    "delta_p2 = delta_p[-1]\n",
    "delta_p1 = delta_p[-9]\n",
    "lg_t2 = lg_t_result[-1]\n",
    "lg_t1 = lg_t_result[-9]\n",
    "i = (delta_p2 - delta_p1) / (lg_t2 - lg_t1)\n",
    "A = delta_p1 - i * lg_t1\n",
    "epsilon, param, piezo, K_prod, k = calculate_MDH(formation_info)\n",
    "print(f\"Гидропроводность пласта: {epsilon}, (Д*см)/cП\")\n",
    "print(f\"Комплексный параметр: {param}, 1/c\")\n",
    "print(f\"Пьезопроводность пласта: {piezo} cм^2/c\")\n",
    "print(f\"Коэффициент продуктивности: {K_prod}, т/(сут*атм)\")\n",
    "print(f\"Проницаемость: {k}, мД\")"
   ]
  },
  {
   "cell_type": "code",
   "execution_count": null,
   "id": "e84f5f85-108e-4455-968a-53aa734c45bf",
   "metadata": {},
   "outputs": [],
   "source": []
  }
 ],
 "metadata": {
  "kernelspec": {
   "display_name": "Python 3 (ipykernel)",
   "language": "python",
   "name": "python3"
  },
  "language_info": {
   "codemirror_mode": {
    "name": "ipython",
    "version": 3
   },
   "file_extension": ".py",
   "mimetype": "text/x-python",
   "name": "python",
   "nbconvert_exporter": "python",
   "pygments_lexer": "ipython3",
   "version": "3.12.0"
  }
 },
 "nbformat": 4,
 "nbformat_minor": 5
}